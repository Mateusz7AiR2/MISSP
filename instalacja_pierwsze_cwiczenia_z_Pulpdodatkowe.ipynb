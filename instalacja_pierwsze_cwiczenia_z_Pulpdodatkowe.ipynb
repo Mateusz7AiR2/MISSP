{
  "nbformat": 4,
  "nbformat_minor": 0,
  "metadata": {
    "colab": {
      "name": "instalacja_pierwsze_cwiczenia_z_Pulp.ipynb",
      "provenance": [],
      "collapsed_sections": [],
      "include_colab_link": true
    },
    "kernelspec": {
      "name": "python3",
      "display_name": "Python 3"
    },
    "widgets": {
      "application/vnd.jupyter.widget-state+json": {
        "dffe5c1397dc4ff1984aa55547f7d353": {
          "model_module": "@jupyter-widgets/controls",
          "model_name": "VBoxModel",
          "state": {
            "_view_name": "VBoxView",
            "_dom_classes": [
              "widget-interact"
            ],
            "_model_name": "VBoxModel",
            "_view_module": "@jupyter-widgets/controls",
            "_model_module_version": "1.5.0",
            "_view_count": null,
            "_view_module_version": "1.5.0",
            "box_style": "",
            "layout": "IPY_MODEL_cdd3db7bd7b14c3caba3de08a3810ac6",
            "_model_module": "@jupyter-widgets/controls",
            "children": [
              "IPY_MODEL_a7b03ce37a7542f1a67ae16c5593cfc6",
              "IPY_MODEL_808bb3181420428481281d3d7a92ca7d",
              "IPY_MODEL_9984c051080f4d12b991036afd0c623a"
            ]
          }
        },
        "cdd3db7bd7b14c3caba3de08a3810ac6": {
          "model_module": "@jupyter-widgets/base",
          "model_name": "LayoutModel",
          "state": {
            "_view_name": "LayoutView",
            "grid_template_rows": null,
            "right": null,
            "justify_content": null,
            "_view_module": "@jupyter-widgets/base",
            "overflow": null,
            "_model_module_version": "1.2.0",
            "_view_count": null,
            "flex_flow": null,
            "width": null,
            "min_width": null,
            "border": null,
            "align_items": null,
            "bottom": null,
            "_model_module": "@jupyter-widgets/base",
            "top": null,
            "grid_column": null,
            "overflow_y": null,
            "overflow_x": null,
            "grid_auto_flow": null,
            "grid_area": null,
            "grid_template_columns": null,
            "flex": null,
            "_model_name": "LayoutModel",
            "justify_items": null,
            "grid_row": null,
            "max_height": null,
            "align_content": null,
            "visibility": null,
            "align_self": null,
            "height": null,
            "min_height": null,
            "padding": null,
            "grid_auto_rows": null,
            "grid_gap": null,
            "max_width": null,
            "order": null,
            "_view_module_version": "1.2.0",
            "grid_template_areas": null,
            "object_position": null,
            "object_fit": null,
            "grid_auto_columns": null,
            "margin": null,
            "display": null,
            "left": null
          }
        },
        "a7b03ce37a7542f1a67ae16c5593cfc6": {
          "model_module": "@jupyter-widgets/controls",
          "model_name": "IntSliderModel",
          "state": {
            "_view_name": "IntSliderView",
            "style": "IPY_MODEL_87dce2b491f940b1afd163638cdb8209",
            "_dom_classes": [],
            "description": "Cena_okna_drewno",
            "step": 1,
            "_model_name": "IntSliderModel",
            "orientation": "horizontal",
            "max": 10000,
            "_view_module": "@jupyter-widgets/controls",
            "_model_module_version": "1.5.0",
            "value": 5000,
            "_view_count": null,
            "disabled": false,
            "_view_module_version": "1.5.0",
            "min": 0,
            "continuous_update": true,
            "readout_format": "d",
            "description_tooltip": null,
            "readout": true,
            "_model_module": "@jupyter-widgets/controls",
            "layout": "IPY_MODEL_51461d30830c4c6f89988f72328e1e6c"
          }
        },
        "808bb3181420428481281d3d7a92ca7d": {
          "model_module": "@jupyter-widgets/controls",
          "model_name": "IntSliderModel",
          "state": {
            "_view_name": "IntSliderView",
            "style": "IPY_MODEL_806a89cf3fdc4987aa633eaae57eaf7d",
            "_dom_classes": [],
            "description": "Cena_okna_aluminium",
            "step": 1,
            "_model_name": "IntSliderModel",
            "orientation": "horizontal",
            "max": 10000,
            "_view_module": "@jupyter-widgets/controls",
            "_model_module_version": "1.5.0",
            "value": 3000,
            "_view_count": null,
            "disabled": false,
            "_view_module_version": "1.5.0",
            "min": 0,
            "continuous_update": true,
            "readout_format": "d",
            "description_tooltip": null,
            "readout": true,
            "_model_module": "@jupyter-widgets/controls",
            "layout": "IPY_MODEL_be27aa7dfbfe4cd5a9e4ce924c249a3c"
          }
        },
        "9984c051080f4d12b991036afd0c623a": {
          "model_module": "@jupyter-widgets/output",
          "model_name": "OutputModel",
          "state": {
            "_view_name": "OutputView",
            "msg_id": "",
            "_dom_classes": [],
            "_model_name": "OutputModel",
            "outputs": [
              {
                "output_type": "stream",
                "metadata": {
                  "tags": []
                },
                "text": "/usr/local/lib/python3.6/dist-packages/pulp/pulp.py:1198: UserWarning: Spaces are not permitted in the name. Converted to '_'\n  warnings.warn(\"Spaces are not permitted in the name. Converted to '_'\")\n",
                "stream": "stderr"
              },
              {
                "output_type": "pyerr",
                "metadata": {
                  "tags": []
                },
                "ename": "ValueError",
                "evalue": "ignored",
                "traceback": [
                  "\u001b[0;31m---------------------------------------------------------------------------\u001b[0m",
                  "\u001b[0;31mValueError\u001b[0m                                Traceback (most recent call last)",
                  "\u001b[0;32m/usr/local/lib/python3.6/dist-packages/ipywidgets/widgets/interaction.py\u001b[0m in \u001b[0;36mupdate\u001b[0;34m(self, *args)\u001b[0m\n\u001b[1;32m    254\u001b[0m                     \u001b[0mvalue\u001b[0m \u001b[0;34m=\u001b[0m \u001b[0mwidget\u001b[0m\u001b[0;34m.\u001b[0m\u001b[0mget_interact_value\u001b[0m\u001b[0;34m(\u001b[0m\u001b[0;34m)\u001b[0m\u001b[0;34m\u001b[0m\u001b[0;34m\u001b[0m\u001b[0m\n\u001b[1;32m    255\u001b[0m                     \u001b[0mself\u001b[0m\u001b[0;34m.\u001b[0m\u001b[0mkwargs\u001b[0m\u001b[0;34m[\u001b[0m\u001b[0mwidget\u001b[0m\u001b[0;34m.\u001b[0m\u001b[0m_kwarg\u001b[0m\u001b[0;34m]\u001b[0m \u001b[0;34m=\u001b[0m \u001b[0mvalue\u001b[0m\u001b[0;34m\u001b[0m\u001b[0;34m\u001b[0m\u001b[0m\n\u001b[0;32m--> 256\u001b[0;31m                 \u001b[0mself\u001b[0m\u001b[0;34m.\u001b[0m\u001b[0mresult\u001b[0m \u001b[0;34m=\u001b[0m \u001b[0mself\u001b[0m\u001b[0;34m.\u001b[0m\u001b[0mf\u001b[0m\u001b[0;34m(\u001b[0m\u001b[0;34m**\u001b[0m\u001b[0mself\u001b[0m\u001b[0;34m.\u001b[0m\u001b[0mkwargs\u001b[0m\u001b[0;34m)\u001b[0m\u001b[0;34m\u001b[0m\u001b[0;34m\u001b[0m\u001b[0m\n\u001b[0m\u001b[1;32m    257\u001b[0m                 \u001b[0mshow_inline_matplotlib_plots\u001b[0m\u001b[0;34m(\u001b[0m\u001b[0;34m)\u001b[0m\u001b[0;34m\u001b[0m\u001b[0;34m\u001b[0m\u001b[0m\n\u001b[1;32m    258\u001b[0m                 \u001b[0;32mif\u001b[0m \u001b[0mself\u001b[0m\u001b[0;34m.\u001b[0m\u001b[0mauto_display\u001b[0m \u001b[0;32mand\u001b[0m \u001b[0mself\u001b[0m\u001b[0;34m.\u001b[0m\u001b[0mresult\u001b[0m \u001b[0;32mis\u001b[0m \u001b[0;32mnot\u001b[0m \u001b[0;32mNone\u001b[0m\u001b[0;34m:\u001b[0m\u001b[0;34m\u001b[0m\u001b[0;34m\u001b[0m\u001b[0m\n",
                  "\u001b[0;32m<ipython-input-21-33bc282aac03>\u001b[0m in \u001b[0;36mprodukcja\u001b[0;34m(zysk_okno_drewniane, zysk_okno_aluminium)\u001b[0m\n\u001b[1;32m     19\u001b[0m \u001b[0;34m\u001b[0m\u001b[0m\n\u001b[1;32m     20\u001b[0m     \u001b[0mprob\u001b[0m \u001b[0;34m+=\u001b[0m \u001b[0;34m(\u001b[0m\u001b[0mzysk_okno_aluminium\u001b[0m \u001b[0;34m*\u001b[0m \u001b[0mx1\u001b[0m\u001b[0;34m)\u001b[0m \u001b[0;34m+\u001b[0m \u001b[0;34m(\u001b[0m\u001b[0mzysk_okno_drewniane\u001b[0m \u001b[0;34m*\u001b[0m \u001b[0mx2\u001b[0m\u001b[0;34m)\u001b[0m\u001b[0;34m,\u001b[0m \u001b[0;34m\"zysk\"\u001b[0m\u001b[0;34m\u001b[0m\u001b[0;34m\u001b[0m\u001b[0m\n\u001b[0;32m---> 21\u001b[0;31m     \u001b[0mprob\u001b[0m \u001b[0;34m+=\u001b[0m \u001b[0mx1\u001b[0m \u001b[0;34m*\u001b[0m \u001b[0;36m1\u001b[0m \u001b[0;34m+\u001b[0m \u001b[0;36m0\u001b[0m \u001b[0;34m*\u001b[0m \u001b[0mx2\u001b[0m \u001b[0;34m<=\u001b[0m\u001b[0;36m4\u001b[0m\u001b[0;34m,\u001b[0m\u001b[0;34m\u001b[0m\u001b[0;34m\u001b[0m\u001b[0m\n\u001b[0m\u001b[1;32m     22\u001b[0m     \u001b[0mprob\u001b[0m \u001b[0;34m+=\u001b[0m \u001b[0mx1\u001b[0m \u001b[0;34m*\u001b[0m \u001b[0;36m0\u001b[0m \u001b[0;34m+\u001b[0m \u001b[0;36m2\u001b[0m \u001b[0;34m*\u001b[0m \u001b[0mx2\u001b[0m \u001b[0;34m<=\u001b[0m \u001b[0;36m12\u001b[0m\u001b[0;34m,\u001b[0m\u001b[0;34m\u001b[0m\u001b[0;34m\u001b[0m\u001b[0m\n\u001b[1;32m     23\u001b[0m     \u001b[0mprob\u001b[0m \u001b[0;34m+=\u001b[0m \u001b[0mx1\u001b[0m \u001b[0;34m*\u001b[0m \u001b[0;36m3\u001b[0m \u001b[0;34m+\u001b[0m \u001b[0;36m2\u001b[0m \u001b[0;34m*\u001b[0m \u001b[0mx2\u001b[0m \u001b[0;34m<=\u001b[0m \u001b[0;36m18\u001b[0m\u001b[0;34m,\u001b[0m\u001b[0;34m\u001b[0m\u001b[0;34m\u001b[0m\u001b[0m\n",
                  "\u001b[0;32m/usr/local/lib/python3.6/dist-packages/pulp/pulp.py\u001b[0m in \u001b[0;36m__iadd__\u001b[0;34m(self, other)\u001b[0m\n\u001b[1;32m   1517\u001b[0m     \u001b[0;32mdef\u001b[0m \u001b[0m__iadd__\u001b[0m\u001b[0;34m(\u001b[0m\u001b[0mself\u001b[0m\u001b[0;34m,\u001b[0m \u001b[0mother\u001b[0m\u001b[0;34m)\u001b[0m\u001b[0;34m:\u001b[0m\u001b[0;34m\u001b[0m\u001b[0;34m\u001b[0m\u001b[0m\n\u001b[1;32m   1518\u001b[0m         \u001b[0;32mif\u001b[0m \u001b[0misinstance\u001b[0m\u001b[0;34m(\u001b[0m\u001b[0mother\u001b[0m\u001b[0;34m,\u001b[0m \u001b[0mtuple\u001b[0m\u001b[0;34m)\u001b[0m\u001b[0;34m:\u001b[0m\u001b[0;34m\u001b[0m\u001b[0;34m\u001b[0m\u001b[0m\n\u001b[0;32m-> 1519\u001b[0;31m             \u001b[0mother\u001b[0m\u001b[0;34m,\u001b[0m \u001b[0mname\u001b[0m \u001b[0;34m=\u001b[0m \u001b[0mother\u001b[0m\u001b[0;34m\u001b[0m\u001b[0;34m\u001b[0m\u001b[0m\n\u001b[0m\u001b[1;32m   1520\u001b[0m         \u001b[0;32melse\u001b[0m\u001b[0;34m:\u001b[0m\u001b[0;34m\u001b[0m\u001b[0;34m\u001b[0m\u001b[0m\n\u001b[1;32m   1521\u001b[0m             \u001b[0mname\u001b[0m \u001b[0;34m=\u001b[0m \u001b[0;32mNone\u001b[0m\u001b[0;34m\u001b[0m\u001b[0;34m\u001b[0m\u001b[0m\n",
                  "\u001b[0;31mValueError\u001b[0m: not enough values to unpack (expected 2, got 1)"
                ]
              }
            ],
            "_view_module": "@jupyter-widgets/output",
            "_model_module_version": "1.0.0",
            "_view_count": null,
            "_view_module_version": "1.0.0",
            "layout": "IPY_MODEL_710627f00ca94f09b8b6defde4332c80",
            "_model_module": "@jupyter-widgets/output"
          }
        },
        "87dce2b491f940b1afd163638cdb8209": {
          "model_module": "@jupyter-widgets/controls",
          "model_name": "SliderStyleModel",
          "state": {
            "_view_name": "StyleView",
            "handle_color": null,
            "_model_name": "SliderStyleModel",
            "description_width": "initial",
            "_view_module": "@jupyter-widgets/base",
            "_model_module_version": "1.5.0",
            "_view_count": null,
            "_view_module_version": "1.2.0",
            "_model_module": "@jupyter-widgets/controls"
          }
        },
        "51461d30830c4c6f89988f72328e1e6c": {
          "model_module": "@jupyter-widgets/base",
          "model_name": "LayoutModel",
          "state": {
            "_view_name": "LayoutView",
            "grid_template_rows": null,
            "right": null,
            "justify_content": null,
            "_view_module": "@jupyter-widgets/base",
            "overflow": null,
            "_model_module_version": "1.2.0",
            "_view_count": null,
            "flex_flow": null,
            "width": null,
            "min_width": null,
            "border": null,
            "align_items": null,
            "bottom": null,
            "_model_module": "@jupyter-widgets/base",
            "top": null,
            "grid_column": null,
            "overflow_y": null,
            "overflow_x": null,
            "grid_auto_flow": null,
            "grid_area": null,
            "grid_template_columns": null,
            "flex": null,
            "_model_name": "LayoutModel",
            "justify_items": null,
            "grid_row": null,
            "max_height": null,
            "align_content": null,
            "visibility": null,
            "align_self": null,
            "height": null,
            "min_height": null,
            "padding": null,
            "grid_auto_rows": null,
            "grid_gap": null,
            "max_width": null,
            "order": null,
            "_view_module_version": "1.2.0",
            "grid_template_areas": null,
            "object_position": null,
            "object_fit": null,
            "grid_auto_columns": null,
            "margin": null,
            "display": null,
            "left": null
          }
        },
        "806a89cf3fdc4987aa633eaae57eaf7d": {
          "model_module": "@jupyter-widgets/controls",
          "model_name": "SliderStyleModel",
          "state": {
            "_view_name": "StyleView",
            "handle_color": null,
            "_model_name": "SliderStyleModel",
            "description_width": "initial",
            "_view_module": "@jupyter-widgets/base",
            "_model_module_version": "1.5.0",
            "_view_count": null,
            "_view_module_version": "1.2.0",
            "_model_module": "@jupyter-widgets/controls"
          }
        },
        "be27aa7dfbfe4cd5a9e4ce924c249a3c": {
          "model_module": "@jupyter-widgets/base",
          "model_name": "LayoutModel",
          "state": {
            "_view_name": "LayoutView",
            "grid_template_rows": null,
            "right": null,
            "justify_content": null,
            "_view_module": "@jupyter-widgets/base",
            "overflow": null,
            "_model_module_version": "1.2.0",
            "_view_count": null,
            "flex_flow": null,
            "width": null,
            "min_width": null,
            "border": null,
            "align_items": null,
            "bottom": null,
            "_model_module": "@jupyter-widgets/base",
            "top": null,
            "grid_column": null,
            "overflow_y": null,
            "overflow_x": null,
            "grid_auto_flow": null,
            "grid_area": null,
            "grid_template_columns": null,
            "flex": null,
            "_model_name": "LayoutModel",
            "justify_items": null,
            "grid_row": null,
            "max_height": null,
            "align_content": null,
            "visibility": null,
            "align_self": null,
            "height": null,
            "min_height": null,
            "padding": null,
            "grid_auto_rows": null,
            "grid_gap": null,
            "max_width": null,
            "order": null,
            "_view_module_version": "1.2.0",
            "grid_template_areas": null,
            "object_position": null,
            "object_fit": null,
            "grid_auto_columns": null,
            "margin": null,
            "display": null,
            "left": null
          }
        },
        "710627f00ca94f09b8b6defde4332c80": {
          "model_module": "@jupyter-widgets/base",
          "model_name": "LayoutModel",
          "state": {
            "_view_name": "LayoutView",
            "grid_template_rows": null,
            "right": null,
            "justify_content": null,
            "_view_module": "@jupyter-widgets/base",
            "overflow": null,
            "_model_module_version": "1.2.0",
            "_view_count": null,
            "flex_flow": null,
            "width": null,
            "min_width": null,
            "border": null,
            "align_items": null,
            "bottom": null,
            "_model_module": "@jupyter-widgets/base",
            "top": null,
            "grid_column": null,
            "overflow_y": null,
            "overflow_x": null,
            "grid_auto_flow": null,
            "grid_area": null,
            "grid_template_columns": null,
            "flex": null,
            "_model_name": "LayoutModel",
            "justify_items": null,
            "grid_row": null,
            "max_height": null,
            "align_content": null,
            "visibility": null,
            "align_self": null,
            "height": null,
            "min_height": null,
            "padding": null,
            "grid_auto_rows": null,
            "grid_gap": null,
            "max_width": null,
            "order": null,
            "_view_module_version": "1.2.0",
            "grid_template_areas": null,
            "object_position": null,
            "object_fit": null,
            "grid_auto_columns": null,
            "margin": null,
            "display": null,
            "left": null
          }
        }
      }
    }
  },
  "cells": [
    {
      "cell_type": "markdown",
      "metadata": {
        "id": "view-in-github",
        "colab_type": "text"
      },
      "source": [
        "<a href=\"https://colab.research.google.com/github/Mateusz7AiR2/MISSP/blob/main/instalacja_pierwsze_cwiczenia_z_Pulpdodatkowe.ipynb\" target=\"_parent\"><img src=\"https://colab.research.google.com/assets/colab-badge.svg\" alt=\"Open In Colab\"/></a>"
      ]
    },
    {
      "cell_type": "code",
      "metadata": {
        "id": "BjX-mj9e8D5a",
        "outputId": "4957a1e6-6f76-4e9c-e9a4-fa76d06b4c10",
        "colab": {
          "base_uri": "https://localhost:8080/"
        }
      },
      "source": [
        "!pip install pulp\n",
        "\n",
        "!sudo apt-get install coinor-cbc glpk-utils coinor-clp\n"
      ],
      "execution_count": 1,
      "outputs": [
        {
          "output_type": "stream",
          "text": [
            "Collecting pulp\n",
            "\u001b[?25l  Downloading https://files.pythonhosted.org/packages/89/0c/6d80f5f81a92d1733cc5ca180491b8a3cd5839e335627a0046c81b7d3d3d/PuLP-2.3.1-py3-none-any.whl (40.6MB)\n",
            "\u001b[K     |████████████████████████████████| 40.6MB 100kB/s \n",
            "\u001b[?25hCollecting amply>=0.1.2\n",
            "  Downloading https://files.pythonhosted.org/packages/f3/c5/dfa09dd2595a2ab2ab4e6fa7bebef9565812722e1980d04b0edce5032066/amply-0.1.4-py3-none-any.whl\n",
            "Requirement already satisfied: docutils>=0.3 in /usr/local/lib/python3.6/dist-packages (from amply>=0.1.2->pulp) (0.16)\n",
            "Requirement already satisfied: pyparsing in /usr/local/lib/python3.6/dist-packages (from amply>=0.1.2->pulp) (2.4.7)\n",
            "Installing collected packages: amply, pulp\n",
            "Successfully installed amply-0.1.4 pulp-2.3.1\n",
            "Reading package lists... Done\n",
            "Building dependency tree       \n",
            "Reading state information... Done\n",
            "The following additional packages will be installed:\n",
            "  coinor-libcbc3 coinor-libcgl1 coinor-libclp1 coinor-libcoinutils3v5\n",
            "  coinor-libosi1v5 libamd2 libcolamd2 libglpk40 libsuitesparseconfig5\n",
            "Suggested packages:\n",
            "  libiodbc2-dev default-libmysqlclient-dev\n",
            "The following NEW packages will be installed:\n",
            "  coinor-cbc coinor-clp coinor-libcbc3 coinor-libcgl1 coinor-libclp1\n",
            "  coinor-libcoinutils3v5 coinor-libosi1v5 glpk-utils libamd2 libcolamd2\n",
            "  libglpk40 libsuitesparseconfig5\n",
            "0 upgraded, 12 newly installed, 0 to remove and 11 not upgraded.\n",
            "Need to get 3,439 kB of archives.\n",
            "After this operation, 9,832 kB of additional disk space will be used.\n",
            "Get:1 http://archive.ubuntu.com/ubuntu bionic/main amd64 libsuitesparseconfig5 amd64 1:5.1.2-2 [9,044 B]\n",
            "Get:2 http://archive.ubuntu.com/ubuntu bionic/main amd64 libamd2 amd64 1:5.1.2-2 [19.5 kB]\n",
            "Get:3 http://archive.ubuntu.com/ubuntu bionic/main amd64 libcolamd2 amd64 1:5.1.2-2 [16.2 kB]\n",
            "Get:4 http://archive.ubuntu.com/ubuntu bionic/universe amd64 libglpk40 amd64 4.65-1 [378 kB]\n",
            "Get:5 http://archive.ubuntu.com/ubuntu bionic/universe amd64 glpk-utils amd64 4.65-1 [269 kB]\n",
            "Get:6 http://archive.ubuntu.com/ubuntu bionic/universe amd64 coinor-libcoinutils3v5 amd64 2.10.14+repack1-1 [472 kB]\n",
            "Get:7 http://archive.ubuntu.com/ubuntu bionic/universe amd64 coinor-libosi1v5 amd64 0.107.9+repack1-1 [270 kB]\n",
            "Get:8 http://archive.ubuntu.com/ubuntu bionic/universe amd64 coinor-libclp1 amd64 1.16.11+repack1-1 [863 kB]\n",
            "Get:9 http://archive.ubuntu.com/ubuntu bionic/universe amd64 coinor-libcgl1 amd64 0.59.10+repack1-1 [433 kB]\n",
            "Get:10 http://archive.ubuntu.com/ubuntu bionic/universe amd64 coinor-libcbc3 amd64 2.9.9+repack1-1 [687 kB]\n",
            "Get:11 http://archive.ubuntu.com/ubuntu bionic/universe amd64 coinor-cbc amd64 2.9.9+repack1-1 [11.2 kB]\n",
            "Get:12 http://archive.ubuntu.com/ubuntu bionic/universe amd64 coinor-clp amd64 1.16.11+repack1-1 [9,646 B]\n",
            "Fetched 3,439 kB in 1s (2,402 kB/s)\n",
            "debconf: unable to initialize frontend: Dialog\n",
            "debconf: (No usable dialog-like program is installed, so the dialog based frontend cannot be used. at /usr/share/perl5/Debconf/FrontEnd/Dialog.pm line 76, <> line 12.)\n",
            "debconf: falling back to frontend: Readline\n",
            "debconf: unable to initialize frontend: Readline\n",
            "debconf: (This frontend requires a controlling tty.)\n",
            "debconf: falling back to frontend: Teletype\n",
            "dpkg-preconfigure: unable to re-open stdin: \n",
            "Selecting previously unselected package libsuitesparseconfig5:amd64.\n",
            "(Reading database ... 144628 files and directories currently installed.)\n",
            "Preparing to unpack .../00-libsuitesparseconfig5_1%3a5.1.2-2_amd64.deb ...\n",
            "Unpacking libsuitesparseconfig5:amd64 (1:5.1.2-2) ...\n",
            "Selecting previously unselected package libamd2:amd64.\n",
            "Preparing to unpack .../01-libamd2_1%3a5.1.2-2_amd64.deb ...\n",
            "Unpacking libamd2:amd64 (1:5.1.2-2) ...\n",
            "Selecting previously unselected package libcolamd2:amd64.\n",
            "Preparing to unpack .../02-libcolamd2_1%3a5.1.2-2_amd64.deb ...\n",
            "Unpacking libcolamd2:amd64 (1:5.1.2-2) ...\n",
            "Selecting previously unselected package libglpk40:amd64.\n",
            "Preparing to unpack .../03-libglpk40_4.65-1_amd64.deb ...\n",
            "Unpacking libglpk40:amd64 (4.65-1) ...\n",
            "Selecting previously unselected package glpk-utils.\n",
            "Preparing to unpack .../04-glpk-utils_4.65-1_amd64.deb ...\n",
            "Unpacking glpk-utils (4.65-1) ...\n",
            "Selecting previously unselected package coinor-libcoinutils3v5.\n",
            "Preparing to unpack .../05-coinor-libcoinutils3v5_2.10.14+repack1-1_amd64.deb ...\n",
            "Unpacking coinor-libcoinutils3v5 (2.10.14+repack1-1) ...\n",
            "Selecting previously unselected package coinor-libosi1v5.\n",
            "Preparing to unpack .../06-coinor-libosi1v5_0.107.9+repack1-1_amd64.deb ...\n",
            "Unpacking coinor-libosi1v5 (0.107.9+repack1-1) ...\n",
            "Selecting previously unselected package coinor-libclp1.\n",
            "Preparing to unpack .../07-coinor-libclp1_1.16.11+repack1-1_amd64.deb ...\n",
            "Unpacking coinor-libclp1 (1.16.11+repack1-1) ...\n",
            "Selecting previously unselected package coinor-libcgl1.\n",
            "Preparing to unpack .../08-coinor-libcgl1_0.59.10+repack1-1_amd64.deb ...\n",
            "Unpacking coinor-libcgl1 (0.59.10+repack1-1) ...\n",
            "Selecting previously unselected package coinor-libcbc3.\n",
            "Preparing to unpack .../09-coinor-libcbc3_2.9.9+repack1-1_amd64.deb ...\n",
            "Unpacking coinor-libcbc3 (2.9.9+repack1-1) ...\n",
            "Selecting previously unselected package coinor-cbc.\n",
            "Preparing to unpack .../10-coinor-cbc_2.9.9+repack1-1_amd64.deb ...\n",
            "Unpacking coinor-cbc (2.9.9+repack1-1) ...\n",
            "Selecting previously unselected package coinor-clp.\n",
            "Preparing to unpack .../11-coinor-clp_1.16.11+repack1-1_amd64.deb ...\n",
            "Unpacking coinor-clp (1.16.11+repack1-1) ...\n",
            "Setting up libsuitesparseconfig5:amd64 (1:5.1.2-2) ...\n",
            "Setting up libcolamd2:amd64 (1:5.1.2-2) ...\n",
            "Setting up coinor-libcoinutils3v5 (2.10.14+repack1-1) ...\n",
            "Setting up coinor-libosi1v5 (0.107.9+repack1-1) ...\n",
            "Setting up coinor-libclp1 (1.16.11+repack1-1) ...\n",
            "Setting up libamd2:amd64 (1:5.1.2-2) ...\n",
            "Setting up coinor-libcgl1 (0.59.10+repack1-1) ...\n",
            "Setting up libglpk40:amd64 (4.65-1) ...\n",
            "Setting up coinor-clp (1.16.11+repack1-1) ...\n",
            "Setting up coinor-libcbc3 (2.9.9+repack1-1) ...\n",
            "Setting up glpk-utils (4.65-1) ...\n",
            "Setting up coinor-cbc (2.9.9+repack1-1) ...\n",
            "Processing triggers for man-db (2.8.3-2ubuntu0.1) ...\n",
            "Processing triggers for libc-bin (2.27-3ubuntu1.2) ...\n",
            "/sbin/ldconfig.real: /usr/local/lib/python3.6/dist-packages/ideep4py/lib/libmkldnn.so.0 is not a symbolic link\n",
            "\n"
          ],
          "name": "stdout"
        }
      ]
    },
    {
      "cell_type": "code",
      "metadata": {
        "id": "HMGiufp89W-9",
        "outputId": "430acd01-7960-4d52-9aed-7243433d3500",
        "colab": {
          "base_uri": "https://localhost:8080/"
        }
      },
      "source": [
        "### kod sprawdza czy instalacja się udała\n",
        "import pulp \n",
        "\n",
        "print(pulp.__version__)"
      ],
      "execution_count": 3,
      "outputs": [
        {
          "output_type": "stream",
          "text": [
            "2.3.1\n"
          ],
          "name": "stdout"
        }
      ]
    },
    {
      "cell_type": "code",
      "metadata": {
        "id": "05p9Frax-V2f",
        "outputId": "ba9311d8-c6cb-49bf-ee4e-f2f56f2d2ae4",
        "colab": {
          "base_uri": "https://localhost:8080/",
          "height": 1000
        }
      },
      "source": [
        "pulp.pulpTestAll()"
      ],
      "execution_count": null,
      "outputs": [
        {
          "output_type": "stream",
          "text": [
            "................."
          ],
          "name": "stderr"
        },
        {
          "output_type": "stream",
          "text": [
            "Solver <class 'pulp.apis.coin_api.PULP_CBC_CMD'> available\n",
            "Solver <class 'pulp.apis.cplex_api.CPLEX_DLL'> unavailable\n",
            "Solver <class 'pulp.apis.cplex_api.CPLEX_CMD'> unavailable\n",
            "Solver <class 'pulp.apis.cplex_api.CPLEX_PY'> unavailable\n",
            "Solver <class 'pulp.apis.coin_api.COIN_CMD'> available\n",
            "Solver <class 'pulp.apis.coin_api.COINMP_DLL'> unavailable\n",
            "Solver <class 'pulp.apis.glpk_api.GLPK_CMD'> available\n",
            "Solver <class 'pulp.apis.xpress_api.XPRESS'> unavailable\n",
            "Solver <class 'pulp.apis.gurobi_api.GUROBI'> unavailable\n",
            "Solver <class 'pulp.apis.gurobi_api.GUROBI_CMD'> unavailable\n",
            "Solver <class 'pulp.apis.glpk_api.PYGLPK'> unavailable\n",
            "Solver <class 'pulp.apis.coin_api.YAPOSIB'> unavailable\n",
            "Solver <class 'pulp.apis.choco_api.PULP_CHOCO_CMD'> available\n",
            "Solver <class 'pulp.apis.choco_api.CHOCO_CMD'> unavailable\n",
            "Solver <class 'pulp.apis.mipcl_api.MIPCL_CMD'> unavailable\n",
            "Solver <class 'pulp.apis.mosek_api.MOSEK'> unavailable\n",
            "Solver <class 'pulp.apis.scip_api.SCIP_CMD'> unavailable\n",
            "\t Testing invalid status\n",
            "\t Testing continuous LP solution - export dict\n",
            "\t Testing MIP solution\n",
            "\t Testing maximize continuous LP solution\n",
            "\t Testing continuous LP solution - export JSON\n",
            "\t Testing continuous LP solution - export solver dict\n",
            "\t Testing continuous LP solution - export solver JSON\n",
            "\t Testing makeDict general behavior\n",
            "\t Testing makeDict default value behavior\n",
            "\t Testing the availability of the function pulpTestAll\n",
            "\t Testing zero subtraction\n",
            "\t Testing inconsistent lp solution\n",
            "\t Testing continuous LP solution\n",
            "\t Testing maximize continuous LP solution\n",
            "\t Testing unbounded continuous LP solution\n",
            "\t Testing Long Names\n",
            "\t Testing repeated Names\n"
          ],
          "name": "stdout"
        },
        {
          "output_type": "stream",
          "text": [
            "................."
          ],
          "name": "stderr"
        },
        {
          "output_type": "stream",
          "text": [
            "\t Testing zero constraint\n",
            "\t Testing zero objective\n",
            "\t Testing LpVariable (not LpAffineExpression) objective\n",
            "\t Testing Long lines in LP\n",
            "\t Testing LpAffineExpression divide\n",
            "\t Testing MIP solution\n",
            "\t Testing MIP solution with floats in objective\n",
            "\t Testing MIP solution\n",
            "\t Testing MIP solution\n",
            "\t Testing MIP relaxation\n",
            "\t Testing feasibility problem (no objective)\n",
            "\t Testing an infeasible problem\n",
            "\t Testing an integer infeasible problem\n",
            "\t Testing another integer infeasible problem\n",
            "\t Testing column based modelling\n",
            "\t Testing dual variables and slacks reporting\n"
          ],
          "name": "stdout"
        },
        {
          "output_type": "stream",
          "text": [
            ".............."
          ],
          "name": "stderr"
        },
        {
          "output_type": "stream",
          "text": [
            "\t Testing fractional constraints\n",
            "\t Testing elastic constraints (no change)\n",
            "\t Testing elastic constraints (freebound)\n",
            "\t Testing elastic constraints (penalty unchanged)\n",
            "\t Testing elastic constraints (penalty unbounded)\n",
            "\t Testing invalid status\n",
            "\t Testing continuous LP solution - export dict\n",
            "\t Testing MIP solution\n",
            "\t Testing maximize continuous LP solution\n",
            "\t Testing continuous LP solution - export JSON\n",
            "\t Testing continuous LP solution - export solver dict\n"
          ],
          "name": "stdout"
        },
        {
          "output_type": "stream",
          "text": [
            "................."
          ],
          "name": "stderr"
        },
        {
          "output_type": "stream",
          "text": [
            "\t Testing continuous LP solution - export solver JSON\n",
            "\t Testing makeDict general behavior\n",
            "\t Testing makeDict default value behavior\n",
            "\t Testing the availability of the function pulpTestAll\n",
            "\t Testing zero subtraction\n",
            "\t Testing inconsistent lp solution\n",
            "\t Testing continuous LP solution\n",
            "\t Testing maximize continuous LP solution\n",
            "\t Testing unbounded continuous LP solution\n",
            "\t Testing Long Names\n",
            "\t Testing repeated Names\n",
            "\t Testing zero constraint\n",
            "\t Testing zero objective\n",
            "\t Testing LpVariable (not LpAffineExpression) objective\n",
            "\t Testing Long lines in LP\n",
            "\t Testing LpAffineExpression divide\n"
          ],
          "name": "stdout"
        },
        {
          "output_type": "stream",
          "text": [
            ".............."
          ],
          "name": "stderr"
        },
        {
          "output_type": "stream",
          "text": [
            "\t Testing MIP solution\n",
            "\t Testing MIP solution with floats in objective\n",
            "\t Testing MIP solution\n",
            "\t Testing MIP solution\n",
            "\t Testing MIP relaxation\n",
            "\t Testing feasibility problem (no objective)\n",
            "\t Testing an infeasible problem\n",
            "\t Testing an integer infeasible problem\n",
            "\t Testing another integer infeasible problem\n",
            "\t Testing column based modelling\n"
          ],
          "name": "stdout"
        },
        {
          "output_type": "stream",
          "text": [
            "..................."
          ],
          "name": "stderr"
        },
        {
          "output_type": "stream",
          "text": [
            "\t Testing fractional constraints\n",
            "\t Testing elastic constraints (no change)\n",
            "\t Testing elastic constraints (freebound)\n",
            "\t Testing elastic constraints (penalty unchanged)\n",
            "\t Testing elastic constraints (penalty unbounded)\n",
            "\t Testing invalid status\n",
            "\t Testing continuous LP solution - export dict\n",
            "\t Testing MIP solution\n",
            "\t Testing maximize continuous LP solution\n",
            "\t Testing continuous LP solution - export JSON\n",
            "\t Testing continuous LP solution - export solver dict\n",
            "\t Testing continuous LP solution - export solver JSON\n",
            "\t Testing makeDict general behavior\n",
            "\t Testing makeDict default value behavior\n",
            "\t Testing the availability of the function pulpTestAll\n",
            "\t Testing zero subtraction\n",
            "\t Testing inconsistent lp solution\n"
          ],
          "name": "stdout"
        },
        {
          "output_type": "stream",
          "text": [
            "...................."
          ],
          "name": "stderr"
        },
        {
          "output_type": "stream",
          "text": [
            "\t Testing continuous LP solution\n",
            "\t Testing maximize continuous LP solution\n",
            "\t Testing unbounded continuous LP solution\n",
            "\t Testing Long Names\n",
            "\t Testing repeated Names\n",
            "\t Testing zero constraint\n",
            "\t Testing zero objective\n",
            "\t Testing LpVariable (not LpAffineExpression) objective\n",
            "\t Testing LpAffineExpression divide\n",
            "\t Testing MIP solution\n",
            "\t Testing MIP solution with floats in objective\n",
            "\t Testing MIP solution\n",
            "\t Testing MIP solution\n",
            "\t Testing MIP relaxation\n",
            "\t Testing feasibility problem (no objective)\n",
            "\t Testing an infeasible problem\n",
            "\t Testing an integer infeasible problem\n",
            "\t Testing another integer infeasible problem\n",
            "\t Testing column based modelling\n"
          ],
          "name": "stdout"
        },
        {
          "output_type": "stream",
          "text": [
            "............"
          ],
          "name": "stderr"
        },
        {
          "output_type": "stream",
          "text": [
            "\t Testing fractional constraints\n",
            "\t Testing elastic constraints (no change)\n",
            "\t Testing elastic constraints (freebound)\n",
            "\t Testing elastic constraints (penalty unchanged)\n",
            "\t Testing elastic constraints (penalty unbounded)\n",
            "\t Testing invalid status\n",
            "\t Testing continuous LP solution - export dict\n"
          ],
          "name": "stdout"
        },
        {
          "output_type": "stream",
          "text": [
            "."
          ],
          "name": "stderr"
        },
        {
          "output_type": "stream",
          "text": [
            "\t Testing MIP solution\n"
          ],
          "name": "stdout"
        },
        {
          "output_type": "stream",
          "text": [
            "."
          ],
          "name": "stderr"
        },
        {
          "output_type": "stream",
          "text": [
            "\t Testing maximize continuous LP solution\n"
          ],
          "name": "stdout"
        },
        {
          "output_type": "stream",
          "text": [
            "."
          ],
          "name": "stderr"
        },
        {
          "output_type": "stream",
          "text": [
            "\t Testing continuous LP solution - export JSON\n"
          ],
          "name": "stdout"
        },
        {
          "output_type": "stream",
          "text": [
            "."
          ],
          "name": "stderr"
        },
        {
          "output_type": "stream",
          "text": [
            "\t Testing continuous LP solution - export solver dict\n"
          ],
          "name": "stdout"
        },
        {
          "output_type": "stream",
          "text": [
            "."
          ],
          "name": "stderr"
        },
        {
          "output_type": "stream",
          "text": [
            "\t Testing continuous LP solution - export solver JSON\n"
          ],
          "name": "stdout"
        },
        {
          "output_type": "stream",
          "text": [
            "......."
          ],
          "name": "stderr"
        },
        {
          "output_type": "stream",
          "text": [
            "\t Testing makeDict general behavior\n",
            "\t Testing makeDict default value behavior\n",
            "\t Testing the availability of the function pulpTestAll\n",
            "\t Testing zero subtraction\n",
            "\t Testing inconsistent lp solution\n",
            "\t Testing continuous LP solution\n"
          ],
          "name": "stdout"
        },
        {
          "output_type": "stream",
          "text": [
            "."
          ],
          "name": "stderr"
        },
        {
          "output_type": "stream",
          "text": [
            "\t Testing maximize continuous LP solution\n"
          ],
          "name": "stdout"
        },
        {
          "output_type": "stream",
          "text": [
            ".."
          ],
          "name": "stderr"
        },
        {
          "output_type": "stream",
          "text": [
            "\t Testing unbounded continuous LP solution\n",
            "\t Testing Long Names\n"
          ],
          "name": "stdout"
        },
        {
          "output_type": "stream",
          "text": [
            ".."
          ],
          "name": "stderr"
        },
        {
          "output_type": "stream",
          "text": [
            "\t Testing repeated Names\n",
            "\t Testing zero constraint\n"
          ],
          "name": "stdout"
        },
        {
          "output_type": "stream",
          "text": [
            "."
          ],
          "name": "stderr"
        },
        {
          "output_type": "stream",
          "text": [
            "\t Testing zero objective\n"
          ],
          "name": "stdout"
        },
        {
          "output_type": "stream",
          "text": [
            "."
          ],
          "name": "stderr"
        },
        {
          "output_type": "stream",
          "text": [
            "\t Testing LpVariable (not LpAffineExpression) objective\n"
          ],
          "name": "stdout"
        },
        {
          "output_type": "stream",
          "text": [
            ".."
          ],
          "name": "stderr"
        },
        {
          "output_type": "stream",
          "text": [
            "\t Testing LpAffineExpression divide\n"
          ],
          "name": "stdout"
        },
        {
          "output_type": "stream",
          "text": [
            "."
          ],
          "name": "stderr"
        },
        {
          "output_type": "stream",
          "text": [
            "\t Testing MIP solution\n"
          ],
          "name": "stdout"
        },
        {
          "output_type": "stream",
          "text": [
            "."
          ],
          "name": "stderr"
        },
        {
          "output_type": "stream",
          "text": [
            "\t Testing MIP solution with floats in objective\n"
          ],
          "name": "stdout"
        },
        {
          "output_type": "stream",
          "text": [
            "."
          ],
          "name": "stderr"
        },
        {
          "output_type": "stream",
          "text": [
            "\t Testing MIP solution\n"
          ],
          "name": "stdout"
        },
        {
          "output_type": "stream",
          "text": [
            "."
          ],
          "name": "stderr"
        },
        {
          "output_type": "stream",
          "text": [
            "\t Testing MIP solution\n"
          ],
          "name": "stdout"
        },
        {
          "output_type": "stream",
          "text": [
            "./usr/local/lib/python3.6/dist-packages/pulp/apis/choco_api.py:83: UserWarning: CHOCO_CMD cannot solve the relaxation of a problem\n",
            "  warnings.warn(\"CHOCO_CMD cannot solve the relaxation of a problem\")\n"
          ],
          "name": "stderr"
        },
        {
          "output_type": "stream",
          "text": [
            "\t Testing MIP relaxation\n"
          ],
          "name": "stdout"
        },
        {
          "output_type": "stream",
          "text": [
            "."
          ],
          "name": "stderr"
        },
        {
          "output_type": "stream",
          "text": [
            "\t Testing feasibility problem (no objective)\n"
          ],
          "name": "stdout"
        },
        {
          "output_type": "stream",
          "text": [
            "."
          ],
          "name": "stderr"
        },
        {
          "output_type": "stream",
          "text": [
            "\t Testing an infeasible problem\n"
          ],
          "name": "stdout"
        },
        {
          "output_type": "stream",
          "text": [
            "."
          ],
          "name": "stderr"
        },
        {
          "output_type": "stream",
          "text": [
            "\t Testing an integer infeasible problem\n"
          ],
          "name": "stdout"
        },
        {
          "output_type": "stream",
          "text": [
            "."
          ],
          "name": "stderr"
        },
        {
          "output_type": "stream",
          "text": [
            "\t Testing another integer infeasible problem\n"
          ],
          "name": "stdout"
        },
        {
          "output_type": "stream",
          "text": [
            "."
          ],
          "name": "stderr"
        },
        {
          "output_type": "stream",
          "text": [
            "\t Testing column based modelling\n"
          ],
          "name": "stdout"
        },
        {
          "output_type": "stream",
          "text": [
            "....."
          ],
          "name": "stderr"
        },
        {
          "output_type": "stream",
          "text": [
            "\t Testing fractional constraints\n"
          ],
          "name": "stdout"
        },
        {
          "output_type": "stream",
          "text": [
            "."
          ],
          "name": "stderr"
        },
        {
          "output_type": "stream",
          "text": [
            "\t Testing elastic constraints (no change)\n"
          ],
          "name": "stdout"
        },
        {
          "output_type": "stream",
          "text": [
            "."
          ],
          "name": "stderr"
        },
        {
          "output_type": "stream",
          "text": [
            "\t Testing elastic constraints (freebound)\n"
          ],
          "name": "stdout"
        },
        {
          "output_type": "stream",
          "text": [
            "."
          ],
          "name": "stderr"
        },
        {
          "output_type": "stream",
          "text": [
            "\t Testing elastic constraints (penalty unchanged)\n"
          ],
          "name": "stdout"
        },
        {
          "output_type": "stream",
          "text": [
            ".................."
          ],
          "name": "stderr"
        },
        {
          "output_type": "stream",
          "text": [
            "\t Testing elastic constraints (penalty unbounded)\n"
          ],
          "name": "stdout"
        },
        {
          "output_type": "stream",
          "text": [
            "........................"
          ],
          "name": "stderr"
        },
        {
          "output_type": "stream",
          "text": [
            "{'a': 53.0, 'b': 45.3, 'c': 459.2}\n"
          ],
          "name": "stdout"
        },
        {
          "output_type": "stream",
          "text": [
            "....\n",
            "----------------------------------------------------------------------\n",
            "Ran 215 tests in 37.518s\n",
            "\n",
            "OK\n"
          ],
          "name": "stderr"
        }
      ]
    },
    {
      "cell_type": "markdown",
      "metadata": {
        "id": "JHP3Y3Yh-stH"
      },
      "source": [
        "# Zadania:\n",
        "\n",
        "1. przeczytaj materiały dotyczące pulp ze strony internetowej https://coin-or.github.io/pulp/main/index.html oraz przejdź przez blending problem (przepisz do swojego notebooka)\n",
        "\n",
        "2. w blending problem dodaj zmienną decyzyjną. Stwórz zmienną która pojawi się w końcowym składzie produktu (tj. wartość zmiennej będzie miała niezerową postać)\n",
        "\n",
        "3. Dodaj ograniczenie co do zawartości witaminy B \n",
        "\n",
        "Zawartość:\n",
        "\n",
        "| Nazwa      | zawartość ug/100g |\n",
        "|------------|-------------------|\n",
        "| chicken    | 0.3               |\n",
        "| beef       | 2.6               |\n",
        "| mutton     | 2.6               |\n",
        "| rice       | 0                 |\n",
        "| wheat bran | 0                 |\n",
        "| gel        | 0                 |\n",
        "| sardines   | 8.9               |\n",
        "\n",
        "Kot ma zjeść minimum 0.24 ug na kilogram masy więc około\n",
        "0.8 ug dziennie\n",
        "\n",
        "4. Na końcu ma pojawiać się zdanie podsumowujące wynik, w stylu:\n",
        "Końcowy produkt będzie kosztować {}, będzie miał w składzie {nazwa}: {} %, {nastepna nazwa}: {} %\n",
        "\n",
        "Takie zdanie można skleić z części generowanych automatycznie:\n",
        "\n"
      ]
    },
    {
      "cell_type": "code",
      "metadata": {
        "id": "BhWf9b8IMJZ7",
        "outputId": "9abeebd3-b955-4fbd-e3ff-a28362283fc4",
        "colab": {
          "base_uri": "https://localhost:8080/"
        }
      },
      "source": [
        "from pulp import *\n",
        "# Creates a list of the Ingredients\n",
        "prob = LpProblem(\"The Whiskas Problem\",LpMinimize)\n",
        "Ingredients =['CHICKEN', 'BEEF', 'MUTTON', 'RICE', 'WHEAT', 'GEL','SARDINES']\n",
        "\n",
        "# A dictionary of the costs of each of the Ingredients is created\n",
        "costs = {'CHICKEN': 0.013, \n",
        "         'BEEF': 0.008, \n",
        "         'MUTTON': 0.010, \n",
        "         'RICE': 0.002, \n",
        "         'WHEAT': 0.005, \n",
        "         'GEL': 0.001,\n",
        "         'SARDINES': 0.0085}\n",
        "\n",
        "# A dictionary of the protein percent in each of the Ingredients is created\n",
        "proteinPercent = {'CHICKEN': 0.100, \n",
        "                  'BEEF': 0.200, \n",
        "                  'MUTTON': 0.150, \n",
        "                  'RICE': 0.000, \n",
        "                  'WHEAT': 0.040, \n",
        "                  'GEL': 0.000,\n",
        "                  'SARDINES': 0.25}\n",
        "\n",
        "# A dictionary of the fat percent in each of the Ingredients is created\n",
        "fatPercent = {'CHICKEN': 0.080, \n",
        "              'BEEF': 0.100, \n",
        "              'MUTTON': 0.110, \n",
        "              'RICE': 0.010, \n",
        "              'WHEAT': 0.010, \n",
        "              'GEL': 0.000,\n",
        "              'SARDINES': 0.11}\n",
        "\n",
        "# A dictionary of the fibre percent in each of the Ingredients is created\n",
        "fibrePercent = {'CHICKEN': 0.001, \n",
        "                'BEEF': 0.005, \n",
        "                'MUTTON': 0.003, \n",
        "                'RICE': 0.100, \n",
        "                'WHEAT': 0.150, \n",
        "                'GEL': 0.000,\n",
        "                'SARDINES': 0.0000}\n",
        "\n",
        "# A dictionary of the salt percent in each of the Ingredients is created\n",
        "saltPercent = {'CHICKEN': 0.002, \n",
        "               'BEEF': 0.005, \n",
        "               'MUTTON': 0.007, \n",
        "               'RICE': 0.002, \n",
        "               'WHEAT': 0.008, \n",
        "               'GEL': 0.000,\n",
        "               'SARDINES': 0.00505}\n",
        "\n",
        "vitaminkab = {'CHICKEN': 0.003, \n",
        "               'BEEF': 0.026, \n",
        "               'MUTTON': 0.026, \n",
        "               'RICE': 0.000, \n",
        "               'WHEAT': 0.000, \n",
        "               'GEL': 0.000,\n",
        "               'SARDINES': 0.089}\n",
        "ingredient_vars = LpVariable.dicts(\"Ingr\",Ingredients,0,100)              \n",
        "# The objective function is added to 'prob' first\n",
        "prob += lpSum([costs[i]*ingredient_vars[i] for i in Ingredients]), \"Total Cost of Ingredients per can\"\n",
        "prob += lpSum([ingredient_vars[i] for i in Ingredients]) == 100, \"PercentagesSum\"\n",
        "prob += lpSum([proteinPercent[i] * ingredient_vars[i] for i in Ingredients]) >= 8.0, \"ProteinRequirement\"\n",
        "prob += lpSum([fatPercent[i] * ingredient_vars[i] for i in Ingredients]) >= 6.0, \"FatRequirement\"\n",
        "prob += lpSum([fibrePercent[i] * ingredient_vars[i] for i in Ingredients]) <= 2.0, \"FibreRequirement\"\n",
        "prob += lpSum([saltPercent[i] * ingredient_vars[i] for i in Ingredients]) <= 0.4, \"SaltRequirement\"\n",
        "prob += lpSum([vitaminkab[i] * ingredient_vars[i] for i in Ingredients]) >= 0.8, \"vitaminkabRequirement\"\n",
        "prob.solve()\n",
        "\n",
        "sklejona_calosc = \", \".join([\"{}: {}%\".format(nazwa,round(i.varValue,2)) for i,nazwa in zip(prob.variables(),sorted(Ingredients))])\n",
        "print(\"Końcowy koszt {}PLN, a jego sklad to {}\".format(round(value(prob.objective),2),sklejona_calosc))\n",
        "#sklejone_produkt_cena = [\":\".join((produkt, str(cena))) for produkt,cena in zip([\"jabłko\",\"banan\"],[5,10])]\n",
        "##sklejona_calosc = \", \".join(sklejone_produkt_cena)\n",
        "#print(sklejona_calosc)"
      ],
      "execution_count": 4,
      "outputs": [
        {
          "output_type": "stream",
          "text": [
            "Końcowy koszt 0.51PLN, a jego sklad to BEEF: 0.0%, CHICKEN: 0.0%, GEL: 45.45%, MUTTON: 0.0%, RICE: 0.0%, SARDINES: 54.55%, WHEAT: 0.0%\n"
          ],
          "name": "stdout"
        },
        {
          "output_type": "stream",
          "text": [
            "/usr/local/lib/python3.6/dist-packages/pulp/pulp.py:1198: UserWarning: Spaces are not permitted in the name. Converted to '_'\n",
            "  warnings.warn(\"Spaces are not permitted in the name. Converted to '_'\")\n"
          ],
          "name": "stderr"
        }
      ]
    },
    {
      "cell_type": "code",
      "metadata": {
        "id": "Se_t7o8bTLdW",
        "outputId": "2eaff368-85e2-4565-d746-301b5d84863f",
        "colab": {
          "base_uri": "https://localhost:8080/"
        }
      },
      "source": [
        "from pulp import *\n",
        "prob = LpProblem(\"The Whiskas Problem\",LpMaximize)\n",
        "Ingredients =['aluminiowe', 'drewniane']\n",
        "costs = {'aluminiowe': 3000, \n",
        "         'drewniane': 5000}\n",
        "\n",
        "f1 = {'aluminiowe': 1, \n",
        "      'drewniane': 0}\n",
        "f2 = {'aluminiowe': 0, \n",
        "      'drewniane': 2}\n",
        "f3 = {'aluminiowe': 3, \n",
        "      'drewniane': 2}\n",
        "ingredient_vars = LpVariable.dicts(\"Ingr\",Ingredients,0,100)  \n",
        "prob += lpSum([costs[i]*ingredient_vars[i] for i in Ingredients]), \"Total zysk\"   \n",
        "prob += lpSum([f1[i] * ingredient_vars[i] for i in Ingredients]) <= 4, \"f1\"\n",
        "prob += lpSum([f2[i] * ingredient_vars[i] for i in Ingredients]) <= 12, \"f2\"\n",
        "prob += lpSum([f3[i] * ingredient_vars[i] for i in Ingredients]) <= 18, \"f3\"\n",
        "prob.solve()\n",
        "print(prob.solve())\n",
        "print(\"Status:\", LpStatus[prob.status])\n",
        "for v in prob.variables():\n",
        "    print(v.name, \"=\", v.varValue)\n",
        "print(\"Total kasa= \", value(prob.objective))"
      ],
      "execution_count": 7,
      "outputs": [
        {
          "output_type": "stream",
          "text": [
            "1\n",
            "Status: Optimal\n",
            "Ingr_aluminiowe = 2.0\n",
            "Ingr_drewniane = 6.0\n",
            "Total kasa=  36000.0\n"
          ],
          "name": "stdout"
        },
        {
          "output_type": "stream",
          "text": [
            "/usr/local/lib/python3.6/dist-packages/pulp/pulp.py:1198: UserWarning: Spaces are not permitted in the name. Converted to '_'\n",
            "  warnings.warn(\"Spaces are not permitted in the name. Converted to '_'\")\n"
          ],
          "name": "stderr"
        }
      ]
    },
    {
      "cell_type": "code",
      "metadata": {
        "id": "iNd9-3ErddD7",
        "outputId": "fcefce64-fb3b-46e9-e26d-4ab50d98b40c",
        "colab": {
          "base_uri": "https://localhost:8080/",
          "height": 489,
          "referenced_widgets": [
            "dffe5c1397dc4ff1984aa55547f7d353",
            "cdd3db7bd7b14c3caba3de08a3810ac6",
            "a7b03ce37a7542f1a67ae16c5593cfc6",
            "808bb3181420428481281d3d7a92ca7d",
            "9984c051080f4d12b991036afd0c623a",
            "87dce2b491f940b1afd163638cdb8209",
            "51461d30830c4c6f89988f72328e1e6c",
            "806a89cf3fdc4987aa633eaae57eaf7d",
            "be27aa7dfbfe4cd5a9e4ce924c249a3c",
            "710627f00ca94f09b8b6defde4332c80"
          ]
        }
      },
      "source": [
        "\n",
        "from __future__ import print_function\n",
        "import pulp\n",
        "from ipywidgets import interact, interactive, fixed, interact_manual, Layout, IntSlider\n",
        "import ipywidgets as widgets\n",
        "import pandas as pd\n",
        "style = {'description_width': 'initial'}\n",
        "\n",
        "zysk_okno_aluminium_slider = IntSlider(min=0,max = 10000, value= 3000, description=\"Cena_okna_aluminium\", style= style )\n",
        "zysk_okno_drewniane_slider = IntSlider(min=0,max = 10000, value= 5000, description=\"Cena_okna_drewno\", style= style )\n",
        "#czas_pracy_fabryka1_slider = IntSlider(min=0,max = 1000, value= 4, description=\"Czas_pracy_fabryki_1\", style= style )\n",
        "#czas_pracy_fabryka2_slider = IntSlider(min=0,max = 1000, value= 12, description=\"Czas_pracy_fabryki_2\", style= style )\n",
        "#prod_aluminiumfb1_slider = IntSlider(min=0,max = 1000, value= 1, description=\"Czas_pracy_fabryki_2\", style= style )\n",
        "def produkcja(zysk_okno_drewniane = 5000,\n",
        "    zysk_okno_aluminium = 3000):\n",
        "    prob = LpProblem(\"Najlepsza kasa z okien\",LpMaximize) \n",
        "    x1=LpVariable(\"AluminiumBatchNum\",0,None,LpInteger)\n",
        "    x2=LpVariable(\"WoodBatchNum\",0,None,LpInteger)\n",
        "    \n",
        "    prob += (zysk_okno_aluminium * x1) + (zysk_okno_drewniane * x2), \"zysk\"\n",
        "    prob += x1 * 1 + 0 * x2 <=4, \n",
        "    prob += x1 * 0 + 2 * x2 <= 12,\n",
        "    prob += x1 * 3 + 2 * x2 <= 18,\n",
        "    prob.writeLP(\"WhindowFactoryModel.lp\")\n",
        "    prob.solve()\n",
        "    print(\"status\", LpStatus[prob.status])\n",
        "    for v in prob.variables():\n",
        "      print(v.name, \"=\", v.varValue)\n",
        "    print(\"Zysk wyniesie {} zł  \".format( value(prob.objective)))\n",
        "\n",
        "interact(produkcja, zysk_okno_drewniane  = zysk_okno_drewniane_slider,\n",
        "    zysk_okno_aluminium =    zysk_okno_aluminium_slider)    "
      ],
      "execution_count": 21,
      "outputs": [
        {
          "output_type": "display_data",
          "data": {
            "application/vnd.jupyter.widget-view+json": {
              "model_id": "dffe5c1397dc4ff1984aa55547f7d353",
              "version_minor": 0,
              "version_major": 2
            },
            "text/plain": [
              "interactive(children=(IntSlider(value=5000, description='Cena_okna_drewno', max=10000, style=SliderStyle(descr…"
            ]
          },
          "metadata": {
            "tags": []
          }
        },
        {
          "output_type": "execute_result",
          "data": {
            "text/plain": [
              "<function __main__.produkcja>"
            ]
          },
          "metadata": {
            "tags": []
          },
          "execution_count": 21
        }
      ]
    }
  ]
}