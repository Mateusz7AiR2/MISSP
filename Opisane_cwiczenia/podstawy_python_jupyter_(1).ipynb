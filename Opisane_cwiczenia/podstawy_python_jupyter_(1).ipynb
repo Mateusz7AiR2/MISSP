{
  "nbformat": 4,
  "nbformat_minor": 0,
  "metadata": {
    "kernelspec": {
      "display_name": "Python 3",
      "language": "python",
      "name": "python3"
    },
    "language_info": {
      "codemirror_mode": {
        "name": "ipython",
        "version": 3
      },
      "file_extension": ".py",
      "mimetype": "text/x-python",
      "name": "python",
      "nbconvert_exporter": "python",
      "pygments_lexer": "ipython3",
      "version": "3.7.3"
    },
    "colab": {
      "name": "podstawy_python_jupyter (1).ipynb",
      "provenance": [],
      "collapsed_sections": []
    }
  },
  "cells": [
    {
      "cell_type": "markdown",
      "metadata": {
        "id": "ZEJsIUpGiYno"
      },
      "source": [
        "**Zadanie 1**\r\n",
        "\r\n",
        "\r\n",
        "*   Wyprintuj zajęcia od środy do piątku\r\n",
        "*   Wyprintuj zajecia oprócz środy \r\n",
        "\r\n",
        "\r\n",
        "\r\n",
        "\r\n",
        "\r\n"
      ]
    },
    {
      "cell_type": "code",
      "metadata": {
        "id": "4fhB3mpdDf7z",
        "colab": {
          "base_uri": "https://localhost:8080/"
        },
        "outputId": "dad3f9b1-9f3e-46e0-e3c6-9f63580b378d"
      },
      "source": [
        "#### challenge 0.1\n",
        "\n",
        "zajecia = [\"wf\",\"informatyka\",\"relax\",\"mispy\",\"piateczek\"]\n",
        "dnityg=[\"Pon\",\"Wto\",\"Sro\",\"Czwar\",\"Pio\"]\n",
        "\n",
        "# wyprintuj zajecia od srody do piatku\n",
        "od_srody = zajecia[dnityg.index(\"Sro\"):]\n",
        "print(od_srody)\n",
        "\n",
        "# wyprintuj oprocz srody\n",
        "for oprocz_srody,dzien in zip(zajecia,dnityg):\n",
        "    if dzien != \"Sro\":\n",
        "        print(oprocz_srody)\n"
      ],
      "execution_count": 2,
      "outputs": [
        {
          "output_type": "stream",
          "text": [
            "['relax', 'mispy', 'piateczek']\n",
            "wf\n",
            "informatyka\n",
            "mispy\n",
            "piateczek\n"
          ],
          "name": "stdout"
        }
      ]
    },
    {
      "cell_type": "markdown",
      "metadata": {
        "id": "tpdDTOlQiXEV"
      },
      "source": [
        "**Zadani 2**\r\n",
        "\r\n",
        "\r\n",
        "*   Zdefiniuj funkcję która zwraca ile jest zajęć danego dnia\r\n",
        "*   Posortuj plan względem ilości zajęć \r\n",
        "\r\n"
      ]
    },
    {
      "cell_type": "code",
      "metadata": {
        "id": "vIu5d4vRDf72",
        "colab": {
          "base_uri": "https://localhost:8080/"
        },
        "outputId": "54fcf4e4-d6ba-4a4c-8681-a248668b65b7"
      },
      "source": [
        "#### challenge 0.2\n",
        "\n",
        "zajecia = [[\"wf\"],\n",
        "           [\"informatyka\", \"nauka czytania\"],\n",
        "           [\"relax\", \"jedzenie\"],\n",
        "           [\"mispy\",\"mispy w domu\"],\n",
        "           [\"piateczek\", \"praca domowa z mispow\", \"Ilovemispy\", \"mispy w czasie snu\"]\n",
        "          ]\n",
        "\n",
        "dnityg= [\"Pon\",\"Wto\",\"Sro\",\"Czwar\",\"Pio\"]\n",
        "\n",
        "# zdefiniuj funkcje ktora poda ile jest zajec danego dnia\n",
        "\n",
        "# lista_zajec_z_dnia -> ile ich jest\n",
        "def lista_zajec(dnityg, zajecia):\n",
        "    ile_zaj = [len(z) for z in zajecia]\n",
        "    out = []\n",
        "    for x in zip(dnityg,ile_zaj):\n",
        "        print(x)\n",
        "        out.append(x)\n",
        "    return out\n",
        "# po\n",
        "# posortuj dni po najbardziej zajetych\n",
        "ile_zaj = lista_zajec(dnityg,zajecia)\n",
        "def mysort(e):\n",
        "    return e[1]\n",
        "ile_zaj.sort(key=mysort)\n",
        "print(ile_zaj)\n",
        "\n"
      ],
      "execution_count": 4,
      "outputs": [
        {
          "output_type": "stream",
          "text": [
            "('Pon', 1)\n",
            "('Wto', 2)\n",
            "('Sro', 2)\n",
            "('Czwar', 2)\n",
            "('Pio', 4)\n",
            "[('Pon', 1), ('Wto', 2), ('Sro', 2), ('Czwar', 2), ('Pio', 4)]\n"
          ],
          "name": "stdout"
        }
      ]
    },
    {
      "cell_type": "markdown",
      "metadata": {
        "id": "FLBySf23jxGq"
      },
      "source": [
        "**Zadanie 3**\r\n",
        "\r\n",
        "\r\n",
        "*   Znalezienie największej liczby mispów oraz wypisanie tego dnia\r\n",
        "\r\n"
      ]
    },
    {
      "cell_type": "code",
      "metadata": {
        "id": "j9A1AAhQDf77",
        "colab": {
          "base_uri": "https://localhost:8080/"
        },
        "outputId": "6c322715-e628-44d7-e09b-db0c39511c88"
      },
      "source": [
        "#### challenge 0.3\n",
        "\n",
        "# napisz program ktory zdajdzie dzien z najwieksza iloscia mispow\n",
        "\n",
        "\n",
        "def ilosc_mispow_w_dniu(dnityg):\n",
        "    iloscMisp = 0\n",
        "    for zajecia in dnityg[1]:\n",
        "        if \"misp\" in zajecia.lower():\n",
        "            iloscMisp += 1\n",
        "    return iloscMisp\n",
        "\n",
        "print(\"Dzień z największą ilością mispów:\",max(dnityg, key=ilosc_mispow_w_dniu)[0])"
      ],
      "execution_count": 13,
      "outputs": [
        {
          "output_type": "stream",
          "text": [
            "Dzień z największą ilością mispów: P\n"
          ],
          "name": "stdout"
        }
      ]
    }
  ]
}